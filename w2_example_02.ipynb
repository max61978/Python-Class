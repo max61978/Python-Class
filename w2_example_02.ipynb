{
  "nbformat": 4,
  "nbformat_minor": 0,
  "metadata": {
    "colab": {
      "name": "w2_example_02.ipynb",
      "provenance": [],
      "collapsed_sections": [],
      "include_colab_link": true
    },
    "kernelspec": {
      "name": "python3",
      "display_name": "Python 3"
    },
    "language_info": {
      "name": "python"
    }
  },
  "cells": [
    {
      "cell_type": "markdown",
      "metadata": {
        "id": "view-in-github",
        "colab_type": "text"
      },
      "source": [
        "<a href=\"https://colab.research.google.com/github/max61978/Python-Class/blob/main/w2_example_02.ipynb\" target=\"_parent\"><img src=\"https://colab.research.google.com/assets/colab-badge.svg\" alt=\"Open In Colab\"/></a>"
      ]
    },
    {
      "cell_type": "markdown",
      "source": [
        "# 第二週範例程式 -- Python 重點回顧\n",
        "---\n"
      ],
      "metadata": {
        "id": "he3hZdgD9TGb"
      }
    },
    {
      "cell_type": "markdown",
      "source": [
        "Part 2 - 控制流程\n",
        "\n",
        "\n",
        "*   if / else / elif\n",
        "*   while / for\n",
        "*   def\n",
        "\n"
      ],
      "metadata": {
        "id": "X510LjVbDgJ9"
      }
    },
    {
      "cell_type": "code",
      "source": [
        "#下載意見蒐集檔\n",
        "!wget --no-check-certificate \"https://drive.google.com/uc?export=download&id=1P_YTatNv8c12JP8SOJ_iCo0huqPBn4Hj\" -O collected_opinion.txt"
      ],
      "metadata": {
        "id": "HewBV7WOHC6S",
        "colab": {
          "base_uri": "https://localhost:8080/"
        },
        "outputId": "affafff8-e618-42a0-9b7b-628472cf70c3"
      },
      "execution_count": 3,
      "outputs": [
        {
          "output_type": "stream",
          "name": "stdout",
          "text": [
            "--2022-02-21 14:13:49--  https://drive.google.com/uc?export=download&id=1P_YTatNv8c12JP8SOJ_iCo0huqPBn4Hj\n",
            "Resolving drive.google.com (drive.google.com)... 142.250.141.102, 142.250.141.113, 142.250.141.101, ...\n",
            "Connecting to drive.google.com (drive.google.com)|142.250.141.102|:443... connected.\n",
            "HTTP request sent, awaiting response... 303 See Other\n",
            "Location: https://doc-0c-5o-docs.googleusercontent.com/docs/securesc/ha0ro937gcuc7l7deffksulhg5h7mbp1/k92u3lfl61v1ks4q1r4nrrfoklh092k0/1645452825000/01721945245289106244/*/1P_YTatNv8c12JP8SOJ_iCo0huqPBn4Hj?e=download [following]\n",
            "Warning: wildcards not supported in HTTP.\n",
            "--2022-02-21 14:13:49--  https://doc-0c-5o-docs.googleusercontent.com/docs/securesc/ha0ro937gcuc7l7deffksulhg5h7mbp1/k92u3lfl61v1ks4q1r4nrrfoklh092k0/1645452825000/01721945245289106244/*/1P_YTatNv8c12JP8SOJ_iCo0huqPBn4Hj?e=download\n",
            "Resolving doc-0c-5o-docs.googleusercontent.com (doc-0c-5o-docs.googleusercontent.com)... 142.250.141.132, 2607:f8b0:4023:c0b::84\n",
            "Connecting to doc-0c-5o-docs.googleusercontent.com (doc-0c-5o-docs.googleusercontent.com)|142.250.141.132|:443... connected.\n",
            "HTTP request sent, awaiting response... 200 OK\n",
            "Length: 2147 (2.1K) [text/plain]\n",
            "Saving to: ‘collected_opinion.txt’\n",
            "\n",
            "collected_opinion.t 100%[===================>]   2.10K  --.-KB/s    in 0s      \n",
            "\n",
            "2022-02-21 14:13:49 (103 MB/s) - ‘collected_opinion.txt’ saved [2147/2147]\n",
            "\n"
          ]
        }
      ]
    },
    {
      "cell_type": "code",
      "source": [
        "#看一下實際內容\n",
        "!cat collected_opinion.txt"
      ],
      "metadata": {
        "id": "vC7cZkZs5pk6",
        "colab": {
          "base_uri": "https://localhost:8080/"
        },
        "outputId": "9800265a-125e-4bea-ce84-18bf0b15e84d"
      },
      "execution_count": 4,
      "outputs": [
        {
          "output_type": "stream",
          "name": "stdout",
          "text": [
            "Answer: FB\n",
            "Q1：Instagram, Line\n",
            "Q1: IG, Twitter, Youtube, 巴哈姆特\n",
            "1、Instagram , google , Line\n",
            "偶爾會在LINE和Dcard上表達意見。\n",
            "Q1：我會使用 Facebook 和 YouTube 以「按讚」、「分享」的方式來表達我是否支持一篇貼文或是影片。此外我會使用 LINE 來「轉貼」一篇我喜歡的 Dcard 貼文。\n",
            "1.通常不表達意見\n",
            "1. Twitter/Youtube/Instagram/Line\n",
            "#1 我常在google評論上面留下好評鼓勵店家，也會在好友的臉書或是IG底下留言(大多只有按讚啦哈哈哈)\n",
            "我幾乎大部分都在facebook(meta)或Dcard或YouTube表達留言及看法，尤其是酒駕這類的犯罪，我會覺得很不公平。\n",
            "1.Ig line fb\n",
            "1. DCARD, INSTAGRAM, FACEBOOK\n",
            "A1: instagram, YouTube, Dcard，Moodle \n",
            "1. 通常不怎麼表達意見，只會看貼文或文章\n",
            "1.都不表達意向，但這些平台都知道也都會看\n",
            "Q1: fb,ig,Dcard\n",
            "\t•\tQ.1： Facebook、Instagram\n",
            "1：fb\n",
            "1.一般情況不會在網路上公開發表自己的意見，只有偶爾會在instagram上和認識的朋友分享一些有趣的議題，但通常也是分享而以不太會深入討論。\n",
            "A:Instagram, Youtube, Facebook\n",
            "1. facebook/dcard/line/instagram/youtube\n",
            "Q1:平常會關注Dcard、PTT等匿名網站，但匿名網站的資訊僅僅當作參考，有時候會很迅速得到第一手消息，但時常在這些匿名平台看到太偏激和假的新聞。表達意向或是發文比較偏向在FB、IG上進行發表，因為周遭使用人數還是以這兩種占最多數。\n",
            "\t1.\t通常會在Instagram、facebook表達意向（主動發表），而會用Google、Dcard觀察網路意象（被動觀察、不會表示意見）\n",
            "我不傾向表達意見。\n",
            "1. Facebook, Twitter, Instagram, PTT, 巴哈姆特, Dcard\n",
            "Q1 我會在Youtube, google, Dcard, 巴哈姆特, Facebook 上發表我的意見。 \n",
            "Q1. PTT\n",
            "Q1.我通常不會在網路上公開的發表言論，但我會在line或discord這種私人通訊軟體跟朋友討論。\n",
            "\t1.\tIG(用小帳)、Medium(類似部落格)、 LetterBoxed(電影評論網站)、Line(但如果更廣泛的來說就算沉默也是種意向，那就更多軟體)\n",
            "1. PTT\n"
          ]
        }
      ]
    },
    {
      "cell_type": "code",
      "source": [
        "#裡面沒內容的檔案\n",
        "!wget --no-check-certificate \"https://drive.google.com/uc?export=download&id=1t4zkzzak3asvswZowbTv0OasPQuAnPER\" -O empty.txt\n"
      ],
      "metadata": {
        "id": "zQLDkIXt-hag",
        "colab": {
          "base_uri": "https://localhost:8080/"
        },
        "outputId": "e5c35b22-03bc-4cea-e56f-3fa841d25bee"
      },
      "execution_count": 5,
      "outputs": [
        {
          "output_type": "stream",
          "name": "stdout",
          "text": [
            "--2022-02-21 14:13:49--  https://drive.google.com/uc?export=download&id=1t4zkzzak3asvswZowbTv0OasPQuAnPER\n",
            "Resolving drive.google.com (drive.google.com)... 142.250.141.102, 142.250.141.101, 142.250.141.139, ...\n",
            "Connecting to drive.google.com (drive.google.com)|142.250.141.102|:443... connected.\n",
            "HTTP request sent, awaiting response... 303 See Other\n",
            "Location: https://doc-0s-5o-docs.googleusercontent.com/docs/securesc/ha0ro937gcuc7l7deffksulhg5h7mbp1/9r9rqkhf4emml556t5c1hofglr500nq2/1645452825000/01721945245289106244/*/1t4zkzzak3asvswZowbTv0OasPQuAnPER?e=download [following]\n",
            "Warning: wildcards not supported in HTTP.\n",
            "--2022-02-21 14:13:50--  https://doc-0s-5o-docs.googleusercontent.com/docs/securesc/ha0ro937gcuc7l7deffksulhg5h7mbp1/9r9rqkhf4emml556t5c1hofglr500nq2/1645452825000/01721945245289106244/*/1t4zkzzak3asvswZowbTv0OasPQuAnPER?e=download\n",
            "Resolving doc-0s-5o-docs.googleusercontent.com (doc-0s-5o-docs.googleusercontent.com)... 142.250.141.132, 2607:f8b0:4023:c0b::84\n",
            "Connecting to doc-0s-5o-docs.googleusercontent.com (doc-0s-5o-docs.googleusercontent.com)|142.250.141.132|:443... connected.\n",
            "HTTP request sent, awaiting response... 200 OK\n",
            "Length: 0 [text/plain]\n",
            "Saving to: ‘empty.txt’\n",
            "\n",
            "empty.txt               [ <=>                ]       0  --.-KB/s    in 0s      \n",
            "\n",
            "2022-02-21 14:13:50 (0.00 B/s) - ‘empty.txt’ saved [0/0]\n",
            "\n"
          ]
        }
      ]
    },
    {
      "cell_type": "code",
      "source": [
        "# if / else / elif\n",
        "# 我們要使用 os package -- 為了檔案處理\n",
        "import os\n",
        "\n",
        "# 檢查一下有沒有這個檔案\n",
        "our_data = 'collected_opinion.txt'\n",
        "\n",
        "\n",
        "if not os.path.exists(our_data):\n",
        "    print('沒這個檔案：', our_data)\n",
        "    "
      ],
      "metadata": {
        "id": "uel7GUog7u9Q"
      },
      "execution_count": 6,
      "outputs": []
    },
    {
      "cell_type": "code",
      "source": [
        "# if / else / elif\n",
        "# 打開檔案\n",
        "# 用 with 開檔案，出了區塊後，檔案會自動關閉\n",
        "with open(our_data, 'r') as read_file:\n",
        "  lines = read_file.readlines();\n",
        "  if lines:\n",
        "    print(lines)\n",
        "  else:\n",
        "    print('Note ==> 檔案裡面沒內容')\n"
      ],
      "metadata": {
        "id": "QFRkj5MJGYRL",
        "colab": {
          "base_uri": "https://localhost:8080/"
        },
        "outputId": "2a5056fd-033a-4092-d777-58585ce91240"
      },
      "execution_count": 7,
      "outputs": [
        {
          "output_type": "stream",
          "name": "stdout",
          "text": [
            "['Answer: FB\\n', 'Q1：Instagram, Line\\n', 'Q1: IG, Twitter, Youtube, 巴哈姆特\\n', '1、Instagram , google , Line\\n', '偶爾會在LINE和Dcard上表達意見。\\n', 'Q1：我會使用 Facebook 和 YouTube 以「按讚」、「分享」的方式來表達我是否支持一篇貼文或是影片。此外我會使用 LINE 來「轉貼」一篇我喜歡的 Dcard 貼文。\\n', '1.通常不表達意見\\n', '1. Twitter/Youtube/Instagram/Line\\n', '#1 我常在google評論上面留下好評鼓勵店家，也會在好友的臉書或是IG底下留言(大多只有按讚啦哈哈哈)\\n', '我幾乎大部分都在facebook(meta)或Dcard或YouTube表達留言及看法，尤其是酒駕這類的犯罪，我會覺得很不公平。\\n', '1.Ig line fb\\n', '1. DCARD, INSTAGRAM, FACEBOOK\\n', 'A1: instagram, YouTube, Dcard，Moodle\\xa0\\n', '1. 通常不怎麼表達意見，只會看貼文或文章\\n', '1.都不表達意向，但這些平台都知道也都會看\\n', 'Q1: fb,ig,Dcard\\n', '\\t•\\tQ.1： Facebook、Instagram\\n', '1：fb\\n', '1.一般情況不會在網路上公開發表自己的意見，只有偶爾會在instagram上和認識的朋友分享一些有趣的議題，但通常也是分享而以不太會深入討論。\\n', 'A:Instagram, Youtube, Facebook\\n', '1. facebook/dcard/line/instagram/youtube\\n', 'Q1:平常會關注Dcard、PTT等匿名網站，但匿名網站的資訊僅僅當作參考，有時候會很迅速得到第一手消息，但時常在這些匿名平台看到太偏激和假的新聞。表達意向或是發文比較偏向在FB、IG上進行發表，因為周遭使用人數還是以這兩種占最多數。\\n', '\\t1.\\t通常會在Instagram、facebook表達意向（主動發表），而會用Google、Dcard觀察網路意象（被動觀察、不會表示意見）\\n', '我不傾向表達意見。\\n', '1. Facebook, Twitter, Instagram, PTT, 巴哈姆特, Dcard\\n', 'Q1 我會在Youtube, google, Dcard, 巴哈姆特, Facebook 上發表我的意見。\\xa0\\n', 'Q1. PTT\\n', 'Q1.我通常不會在網路上公開的發表言論，但我會在line或discord這種私人通訊軟體跟朋友討論。\\n', '\\t1.\\tIG(用小帳)、Medium(類似部落格)、 LetterBoxed(電影評論網站)、Line(但如果更廣泛的來說就算沉默也是種意向，那就更多軟體)\\n', '1. PTT\\n']\n"
          ]
        }
      ]
    },
    {
      "cell_type": "code",
      "source": [
        "# while / for\n",
        "# 一行一行印出來 - while 版\n",
        "with open(our_data, 'r') as read_file:\n",
        "    line = read_file.readline()\n",
        "    while line:\n",
        "        print(line, end=\"\")\n",
        "        line = read_file.readline()\n",
        "\n",
        "print('Note ==> 檔案已經讀完')"
      ],
      "metadata": {
        "id": "df876FmvGeGF",
        "colab": {
          "base_uri": "https://localhost:8080/"
        },
        "outputId": "5bc6ebb2-080a-4f7b-e12c-cb91b4fd74bb"
      },
      "execution_count": 8,
      "outputs": [
        {
          "output_type": "stream",
          "name": "stdout",
          "text": [
            "Answer: FB\n",
            "Q1：Instagram, Line\n",
            "Q1: IG, Twitter, Youtube, 巴哈姆特\n",
            "1、Instagram , google , Line\n",
            "偶爾會在LINE和Dcard上表達意見。\n",
            "Q1：我會使用 Facebook 和 YouTube 以「按讚」、「分享」的方式來表達我是否支持一篇貼文或是影片。此外我會使用 LINE 來「轉貼」一篇我喜歡的 Dcard 貼文。\n",
            "1.通常不表達意見\n",
            "1. Twitter/Youtube/Instagram/Line\n",
            "#1 我常在google評論上面留下好評鼓勵店家，也會在好友的臉書或是IG底下留言(大多只有按讚啦哈哈哈)\n",
            "我幾乎大部分都在facebook(meta)或Dcard或YouTube表達留言及看法，尤其是酒駕這類的犯罪，我會覺得很不公平。\n",
            "1.Ig line fb\n",
            "1. DCARD, INSTAGRAM, FACEBOOK\n",
            "A1: instagram, YouTube, Dcard，Moodle \n",
            "1. 通常不怎麼表達意見，只會看貼文或文章\n",
            "1.都不表達意向，但這些平台都知道也都會看\n",
            "Q1: fb,ig,Dcard\n",
            "\t•\tQ.1： Facebook、Instagram\n",
            "1：fb\n",
            "1.一般情況不會在網路上公開發表自己的意見，只有偶爾會在instagram上和認識的朋友分享一些有趣的議題，但通常也是分享而以不太會深入討論。\n",
            "A:Instagram, Youtube, Facebook\n",
            "1. facebook/dcard/line/instagram/youtube\n",
            "Q1:平常會關注Dcard、PTT等匿名網站，但匿名網站的資訊僅僅當作參考，有時候會很迅速得到第一手消息，但時常在這些匿名平台看到太偏激和假的新聞。表達意向或是發文比較偏向在FB、IG上進行發表，因為周遭使用人數還是以這兩種占最多數。\n",
            "\t1.\t通常會在Instagram、facebook表達意向（主動發表），而會用Google、Dcard觀察網路意象（被動觀察、不會表示意見）\n",
            "我不傾向表達意見。\n",
            "1. Facebook, Twitter, Instagram, PTT, 巴哈姆特, Dcard\n",
            "Q1 我會在Youtube, google, Dcard, 巴哈姆特, Facebook 上發表我的意見。 \n",
            "Q1. PTT\n",
            "Q1.我通常不會在網路上公開的發表言論，但我會在line或discord這種私人通訊軟體跟朋友討論。\n",
            "\t1.\tIG(用小帳)、Medium(類似部落格)、 LetterBoxed(電影評論網站)、Line(但如果更廣泛的來說就算沉默也是種意向，那就更多軟體)\n",
            "1. PTT\n",
            "Note ==> 檔案已經讀完\n"
          ]
        }
      ]
    },
    {
      "cell_type": "code",
      "source": [
        "!ls > empty.txt"
      ],
      "metadata": {
        "id": "jRXk3mLCpE6r"
      },
      "execution_count": 9,
      "outputs": []
    },
    {
      "cell_type": "code",
      "source": [
        "# 一行一行印出來 - for 版\n",
        "with open(our_data, 'r') as read_file:\n",
        "    lines = read_file.readlines()\n",
        "    \n",
        "    for line in lines:\n",
        "        print(line)\n",
        "\n",
        "print('Note ==> 檔案已經讀完')"
      ],
      "metadata": {
        "id": "49qJ0pdZ_-no",
        "colab": {
          "base_uri": "https://localhost:8080/"
        },
        "outputId": "2dc6039d-2c02-4002-d4e0-83059ce1e0ea"
      },
      "execution_count": 10,
      "outputs": [
        {
          "output_type": "stream",
          "name": "stdout",
          "text": [
            "Answer: FB\n",
            "\n",
            "Q1：Instagram, Line\n",
            "\n",
            "Q1: IG, Twitter, Youtube, 巴哈姆特\n",
            "\n",
            "1、Instagram , google , Line\n",
            "\n",
            "偶爾會在LINE和Dcard上表達意見。\n",
            "\n",
            "Q1：我會使用 Facebook 和 YouTube 以「按讚」、「分享」的方式來表達我是否支持一篇貼文或是影片。此外我會使用 LINE 來「轉貼」一篇我喜歡的 Dcard 貼文。\n",
            "\n",
            "1.通常不表達意見\n",
            "\n",
            "1. Twitter/Youtube/Instagram/Line\n",
            "\n",
            "#1 我常在google評論上面留下好評鼓勵店家，也會在好友的臉書或是IG底下留言(大多只有按讚啦哈哈哈)\n",
            "\n",
            "我幾乎大部分都在facebook(meta)或Dcard或YouTube表達留言及看法，尤其是酒駕這類的犯罪，我會覺得很不公平。\n",
            "\n",
            "1.Ig line fb\n",
            "\n",
            "1. DCARD, INSTAGRAM, FACEBOOK\n",
            "\n",
            "A1: instagram, YouTube, Dcard，Moodle \n",
            "\n",
            "1. 通常不怎麼表達意見，只會看貼文或文章\n",
            "\n",
            "1.都不表達意向，但這些平台都知道也都會看\n",
            "\n",
            "Q1: fb,ig,Dcard\n",
            "\n",
            "\t•\tQ.1： Facebook、Instagram\n",
            "\n",
            "1：fb\n",
            "\n",
            "1.一般情況不會在網路上公開發表自己的意見，只有偶爾會在instagram上和認識的朋友分享一些有趣的議題，但通常也是分享而以不太會深入討論。\n",
            "\n",
            "A:Instagram, Youtube, Facebook\n",
            "\n",
            "1. facebook/dcard/line/instagram/youtube\n",
            "\n",
            "Q1:平常會關注Dcard、PTT等匿名網站，但匿名網站的資訊僅僅當作參考，有時候會很迅速得到第一手消息，但時常在這些匿名平台看到太偏激和假的新聞。表達意向或是發文比較偏向在FB、IG上進行發表，因為周遭使用人數還是以這兩種占最多數。\n",
            "\n",
            "\t1.\t通常會在Instagram、facebook表達意向（主動發表），而會用Google、Dcard觀察網路意象（被動觀察、不會表示意見）\n",
            "\n",
            "我不傾向表達意見。\n",
            "\n",
            "1. Facebook, Twitter, Instagram, PTT, 巴哈姆特, Dcard\n",
            "\n",
            "Q1 我會在Youtube, google, Dcard, 巴哈姆特, Facebook 上發表我的意見。 \n",
            "\n",
            "Q1. PTT\n",
            "\n",
            "Q1.我通常不會在網路上公開的發表言論，但我會在line或discord這種私人通訊軟體跟朋友討論。\n",
            "\n",
            "\t1.\tIG(用小帳)、Medium(類似部落格)、 LetterBoxed(電影評論網站)、Line(但如果更廣泛的來說就算沉默也是種意向，那就更多軟體)\n",
            "\n",
            "1. PTT\n",
            "\n",
            "Note ==> 檔案已經讀完\n"
          ]
        }
      ]
    },
    {
      "cell_type": "markdown",
      "source": [
        "### **Quiz - 2 : 練習把上面的程式碼，寫成「給定檔案路徑名稱為輸入，傳回檔案內容」的函式；並繳交這個程式碼。**"
      ],
      "metadata": {
        "id": "IPhBE4qih0E6"
      }
    },
    {
      "cell_type": "code",
      "source": [
        "# Quiz 2 - 把上面的印出檔案功能，寫成以下函式\n",
        "# def sub-routine(parameter list):\n",
        "def GetOpinionData(opinionFile):\n",
        "    print('即將要打開', opinionFile)\n",
        "    ret_lines = \"\"\n",
        "    with open(opinionFile, 'r') as read_file:\n",
        "        lines = read_file.readlines()\n",
        "    for line in lines:\n",
        "        ret_lines += line\n",
        "\n",
        "    print('Note ==> 檔案已經讀完')\n",
        "    return ret_lines"
      ],
      "metadata": {
        "id": "7EBf50y7GhYy"
      },
      "execution_count": 11,
      "outputs": []
    },
    {
      "cell_type": "code",
      "source": [
        "# 用看看這個函式\n",
        "str_get_return = GetOpinionData(our_data)\n",
        "print('呼叫函式，傳回', str_get_return)"
      ],
      "metadata": {
        "id": "EzwZT9DsB4EE",
        "colab": {
          "base_uri": "https://localhost:8080/"
        },
        "outputId": "8fab16e0-1b7d-4ed7-b486-ea5fabdf6e76"
      },
      "execution_count": 13,
      "outputs": [
        {
          "output_type": "stream",
          "name": "stdout",
          "text": [
            "即將要打開 collected_opinion.txt\n",
            "Note ==> 檔案已經讀完\n",
            "呼叫函式，傳回 Answer: FB\n",
            "Q1：Instagram, Line\n",
            "Q1: IG, Twitter, Youtube, 巴哈姆特\n",
            "1、Instagram , google , Line\n",
            "偶爾會在LINE和Dcard上表達意見。\n",
            "Q1：我會使用 Facebook 和 YouTube 以「按讚」、「分享」的方式來表達我是否支持一篇貼文或是影片。此外我會使用 LINE 來「轉貼」一篇我喜歡的 Dcard 貼文。\n",
            "1.通常不表達意見\n",
            "1. Twitter/Youtube/Instagram/Line\n",
            "#1 我常在google評論上面留下好評鼓勵店家，也會在好友的臉書或是IG底下留言(大多只有按讚啦哈哈哈)\n",
            "我幾乎大部分都在facebook(meta)或Dcard或YouTube表達留言及看法，尤其是酒駕這類的犯罪，我會覺得很不公平。\n",
            "1.Ig line fb\n",
            "1. DCARD, INSTAGRAM, FACEBOOK\n",
            "A1: instagram, YouTube, Dcard，Moodle \n",
            "1. 通常不怎麼表達意見，只會看貼文或文章\n",
            "1.都不表達意向，但這些平台都知道也都會看\n",
            "Q1: fb,ig,Dcard\n",
            "\t•\tQ.1： Facebook、Instagram\n",
            "1：fb\n",
            "1.一般情況不會在網路上公開發表自己的意見，只有偶爾會在instagram上和認識的朋友分享一些有趣的議題，但通常也是分享而以不太會深入討論。\n",
            "A:Instagram, Youtube, Facebook\n",
            "1. facebook/dcard/line/instagram/youtube\n",
            "Q1:平常會關注Dcard、PTT等匿名網站，但匿名網站的資訊僅僅當作參考，有時候會很迅速得到第一手消息，但時常在這些匿名平台看到太偏激和假的新聞。表達意向或是發文比較偏向在FB、IG上進行發表，因為周遭使用人數還是以這兩種占最多數。\n",
            "\t1.\t通常會在Instagram、facebook表達意向（主動發表），而會用Google、Dcard觀察網路意象（被動觀察、不會表示意見）\n",
            "我不傾向表達意見。\n",
            "1. Facebook, Twitter, Instagram, PTT, 巴哈姆特, Dcard\n",
            "Q1 我會在Youtube, google, Dcard, 巴哈姆特, Facebook 上發表我的意見。 \n",
            "Q1. PTT\n",
            "Q1.我通常不會在網路上公開的發表言論，但我會在line或discord這種私人通訊軟體跟朋友討論。\n",
            "\t1.\tIG(用小帳)、Medium(類似部落格)、 LetterBoxed(電影評論網站)、Line(但如果更廣泛的來說就算沉默也是種意向，那就更多軟體)\n",
            "1. PTT\n",
            "\n"
          ]
        }
      ]
    }
  ]
}